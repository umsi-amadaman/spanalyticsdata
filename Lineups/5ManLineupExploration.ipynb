{
 "cells": [
  {
   "cell_type": "markdown",
   "metadata": {},
   "source": [
    "===\n",
    "NBA 5-Man Lineup Analysis Worksheet\n",
    "===\n",
    "\n",
    "This notebook will guide you through:\n",
    "1. Pulling 5-man lineup data from the nba_api.\n",
    "\n",
    "2. Identifying lineups that have varying numbers of good 3-point shooters.\n",
    "\n",
    "3. Performing a simple regression to see if there's a correlation with Offensive Rating.\n",
    "\n",
    "4. (Optional) Clustering lineups based on 3PT shooting and Offensive Rating.\n",
    "\n",
    "Feel free to expand, modify, and explore further!\n",
    "The comments and instructions below will help you fill in the steps.\n",
    "\n",
    "-------------------------\n",
    "Step 0: Install Dependencies\n",
    "-------------------------\n",
    "If you haven't installed nba_api or scikit-learn in your environment, uncomment and run:\n"
   ]
  },
  {
   "cell_type": "code",
   "execution_count": null,
   "metadata": {},
   "outputs": [],
   "source": [
    "#!pip install nba_api\n",
    "#!pip install scikit-learn"
   ]
  },
  {
   "cell_type": "code",
   "execution_count": null,
   "metadata": {},
   "outputs": [],
   "source": [
    "import pandas as pd\n",
    "import numpy as np\n",
    "\n",
    "#nba_api endpoints:\n",
    "from nba_api.stats.endpoints import leaguedashlineups, playercareerstats\n",
    "from nba_api.stats.static import players, teams\n",
    "\n",
    "#For regression/clustering:\n",
    "from sklearn.linear_model import LinearRegression\n",
    "from sklearn.cluster import KMeans"
   ]
  },
  {
   "cell_type": "markdown",
   "metadata": {},
   "source": [
    "-------------------------\n",
    "Step 1: Pull 5-Man Lineup Data\n",
    "-------------------------\n",
    "We'll demonstrate a call to the LeagueDashLineups endpoint that returns\n",
    "data for 5-man groupings. By default it might return \"Base\" measure types.\n",
    "For advanced stats (including Offensive Rating), you can specify measure_type=\"Advanced\".\n",
    "\n",
    "\n",
    "Try changing parameters such as 'Season' or 'SeasonType' below."
   ]
  },
  {
   "cell_type": "code",
   "execution_count": null,
   "metadata": {},
   "outputs": [],
   "source": [
    "five_man_lineups = leaguedashlineups.LeagueDashLineups(\n",
    "    season='2023-24',\n",
    "    season_type_all_star='Regular Season',  # or 'Playoffs\n",
    "    group_quantity=5,  # if you want to do 3 man lineups change this to 3\n",
    "    per_mode_detailed='Totals', #or 'PerGame', 'Per100Possessions', etc.\n",
    "    pace_adjust='N' # or 'Y'\n",
    ")\n",
    "\n",
    "#Convert the data into a DataFrame\n",
    "df_lineups = five_man_lineups.get_data_frames()[0]\n",
    "\n",
    "#Let's peek at the columns we have\n",
    "print(\"Columns:\", df_lineups.columns.tolist())\n",
    "df_lineups.head()"
   ]
  },
  {
   "cell_type": "markdown",
   "metadata": {},
   "source": [
    "-------------------------\n",
    "Step 1.5: Parse 5-Man Lineup player IDs\n",
    "-------------------------\n",
    "\n",
    "Notice each row's GROUP_ID might look like \"-1626157-1628384-1628404-1628969-1628973-\",\n",
    "\n",
    "which is a string of five player IDs separated by hyphens.\n",
    "\n",
    "We'll strip leading/trailing dashes, split by '-', and get a list of player IDs.\n"
   ]
  },
  {
   "cell_type": "code",
   "execution_count": null,
   "metadata": {},
   "outputs": [],
   "source": [
    "df_lineups[\"PLAYER_IDS\"] = df_lineups[\"GROUP_ID\"].apply(\n",
    "    lambda g: [x for x in g.strip(\"-\").split(\"-\") if x]\n",
    ")\n",
    "\n",
    "# Now df_lineups[\"PLAYER_IDS\"] is a list of the 5 player IDs for each lineup.\n",
    "df_lineups[[\"GROUP_ID\", \"PLAYER_IDS\"]].head()"
   ]
  },
  {
   "cell_type": "markdown",
   "metadata": {},
   "source": [
    "-------------------------\n",
    "Step 2: Filter / Identify 3PT Shooters in Each Lineup\n",
    "-------------------------\n",
    "The \"GROUP_NAME\" column in df_lineups might contain the 5 player names,\n",
    "but you also have individual player stats endpoints in nba_api.\n",
    "\n",
    "One approach:\n",
    " - Parse the player names from \"GROUP_NAME\" or \"GROUP_ID\" (whichever is more convenient).\n",
    " - For each player, pull career or season 3PT% using the PlayerCareerStats endpoint or LeagueDashPlayerStats.\n",
    " - Decide on your threshold for \"good\" 3PT shooting (e.g., 35% or 37%).\n",
    " - Count how many \"good\" shooters a given lineup has.\n",
    "\n",
    "This step can involve a few sub-queries. We'll outline some pseudocode for you to complete.\n",
    "\n",
    "(Pseudo-ish code—uncomment and adapt)\n",
    "\n"
   ]
  },
  {
   "cell_type": "code",
   "execution_count": null,
   "metadata": {},
   "outputs": [],
   "source": [
    "### 2.1 figure out how good three point shooters are in each lineup\n",
    "good_shooter_threshold = 0.36\n",
    "\n",
    "def fetch_player_3pt_percentage(player_id):\n",
    "    # 1) Search for the player's ID in nba_api.stats.static.players\n",
    "    # 2) Use playercareerstats.PlayerCareerStats(player_id=...).get_data_frames()[0] to get their career stats. \n",
    "    # 3) use indexing to get their 3P% for the season you want, (or get another stat)\n",
    "    # 3) Return that 3P% as a float\n",
    "    pass\n"
   ]
  },
  {
   "cell_type": "code",
   "execution_count": null,
   "metadata": {},
   "outputs": [],
   "source": [
    "### 3.2 count the shooters in each lineup\n",
    "df_lineups['Good3ptShootersCount'] = 0  # We'll fill this in with a loop below.\n",
    "\n",
    "for idx, row in df_lineups.iterrows():\n",
    "    # Example group_name might look like: \"S. Curry - D. Green - A. Wiggins - K. Looney - K. Thompson\"\n",
    "    # We'll split on the ' - ' delimiter to get each name or parse from the group ID if easier.\n",
    "    lineup_player_names = row['GROUP_NAME'].split(' - ')\n",
    "    \n",
    "    count_good_shooters = 0\n",
    "    for player in lineup_player_names:\n",
    "        # Attempt to fetch their 3pt%\n",
    "        # three_pt_percent = fetch_player_3pt_percentage(player)\n",
    "        # if three_pt_percent > good_shooter_threshold:\n",
    "        #     count_good_shooters += 1\n",
    "        pass\n",
    "    \n",
    "    # df_lineups.at[idx, 'Good3ptShootersCount'] = count_good_shooters"
   ]
  },
  {
   "cell_type": "markdown",
   "metadata": {},
   "source": [
    "-------------------------\n",
    "Step 3: Explore Relationship: 3PT Shooting Count vs. Offensive Rating\n",
    "-------------------------\n",
    "In advanced measure type data, Offensive Rating might appear under the column \"OFF_RATING\".\n",
    "We can do a quick regression or correlation check.\n",
    "\n",
    "Let's assume you've filled 'Good3ptShootersCount' with real data from Step 2.\n",
    "\n"
   ]
  },
  {
   "cell_type": "code",
   "execution_count": null,
   "metadata": {},
   "outputs": [],
   "source": [
    "# 3.1 - Basic correlation\n",
    "correlation = df_lineups[['Good3ptShootersCount', 'OFF_RATING']].corr()\n",
    "print(correlation)"
   ]
  },
  {
   "cell_type": "code",
   "execution_count": null,
   "metadata": {},
   "outputs": [],
   "source": [
    "# 3.2 - Simple linear regression\n",
    "X = df_lineups[['Good3ptShootersCount']]  # predictor\n",
    "y = df_lineups['OFF_RATING']              # outcome\n",
    "\n",
    "reg = LinearRegression()\n",
    "reg.fit(X, y)\n",
    "\n",
    "print(\"Intercept:\", reg.intercept_)\n",
    "print(\"Coefficient:\", reg.coef_)"
   ]
  },
  {
   "cell_type": "markdown",
   "metadata": {},
   "source": [
    "-------------------------\n",
    "Step 4: Optional Clustering\n",
    "-------------------------\n",
    "You could also see how lineups cluster based on OFF_RATING and number of good 3PT shooters.\n",
    "We'll outline a quick approach with KMeans. Try different numbers of clusters (n_clusters)."
   ]
  },
  {
   "cell_type": "code",
   "execution_count": null,
   "metadata": {},
   "outputs": [],
   "source": [
    "### 4.1 dividie the lineups into categories called clusters based on offensive efficiency and 3 point shooters\n",
    "kmeans = KMeans(n_clusters=3, random_state=42)\n",
    "\n",
    "df_lineups['cluster_label'] = kmeans.fit_predict(df_lineups[['Good3ptShootersCount', 'OFF_RATING']])"
   ]
  },
  {
   "cell_type": "code",
   "execution_count": null,
   "metadata": {},
   "outputs": [],
   "source": [
    "### 4.2 Then you can explore how lineups are grouped:\n",
    "\n",
    "df_lineups.groupby('cluster_label')[['Good3ptShootersCount','OFF_RATING']].mean()"
   ]
  },
  {
   "cell_type": "markdown",
   "metadata": {},
   "source": [
    "-------------------------\n",
    "Step 5: Interpret & Extend\n",
    "-------------------------\n",
    "1. Interpret the correlation/regression results: is there a positive relationship?\n",
    "\n",
    "2. Experiment with your threshold for what \"good\" shooting means (maybe 38% or 40%). Maybe you should focus on attempts per minute?\n",
    "\n",
    "3. Try pulling data for multiple seasons or focusing on only specific teams.\n",
    "\n",
    "4. Extend your analysis with other advanced stats, such as eFG%, TS%, or scoring efficiency.\n",
    "\n",
    "5. Try a different clustering approach or add more features into your model.\n"
   ]
  }
 ],
 "metadata": {
  "language_info": {
   "name": "python"
  }
 },
 "nbformat": 4,
 "nbformat_minor": 2
}
